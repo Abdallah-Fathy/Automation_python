{
 "cells": [
  {
   "cell_type": "markdown",
   "metadata": {},
   "source": [
    "Automatic File Sorter in File Explorer"
   ]
  },
  {
   "cell_type": "code",
   "execution_count": 71,
   "metadata": {},
   "outputs": [],
   "source": [
    "import os, shutil"
   ]
  },
  {
   "cell_type": "code",
   "execution_count": 72,
   "metadata": {},
   "outputs": [],
   "source": [
    "path = r'D:/'"
   ]
  },
  {
   "cell_type": "code",
   "execution_count": 73,
   "metadata": {},
   "outputs": [
    {
     "name": "stdout",
     "output_type": "stream",
     "text": [
      "['$RECYCLE.BIN', '10-Zack Snyders Justice League', '11.22.63', '334005108_583900933776323_4487999530216177897_n.jpg', '9_1_loan-dataset', 'Banshee', 'Black Mirror', 'Breaking Bad', 'CSV_files', 'Dark', 'data-preprocessing-numpy', 'data-visualization', 'Films', 'Graduation_Project', 'HD wallpaper_ Joker, black, DC Comics, Batman, Joaquin Phoenix, movie characters.jfif', 'IDM Crack', 'IMG-20220101-WA0047.jpg', 'IMG-20231113-WA0015-01.jpeg', 'IMG_20220614_012131_465 (1).jpg', 'IMG_20220614_012131_465.jpg', 'IMG_7263.jpg', 'Into The Night', 'IWD 22', 'Lupin', 'MachineLearning Project', 'MachineLearning Project.rar', 'Microsoft Visual Studio 2017 v15.1.26403.0 + Keys [CracksNow]', 'Music', 'Narcos', 'New folder (2)', 'New Text Document.txt', 'noc_regions.csv', 'NumPy Project-20221125T192841Z-001.zip', 'Photo', 'postgresql-14.2-1-windows-x64.exe', 'Project Social', 'Quran', 'SPORTS', 'SQL Project', 'SQL Projects', 'System Volume Information', 'The Good Doctor', 'the hulk', 'the mentalist', 'The.Last.of.Us.S01E01.Episode.1.720p.HMAX.WEB-DL.DDP5.1.Atmos.H.264-SMURF.mkv', 'The.Last.of.Us.S01E02.720p.WEB.h264-KOGi[eztv.re].mkv', 'Tokyo Revengers', 'Training', 'Um kalthom', '[AnimeKaizoku] Vinland Saga 1080p BD Eng Sub [SHINIGAMI_KIRA]', '~$Dell-EMC_Proposal_2022.docx', '~WRL3201.tmp', 'افلام', 'الجانب الاسود', 'الدحيح - الاكتئاب.mp4', 'فلسطين .. حكاية الأرض - الدحيح - Palestine .. a Tale of Land_2.mp4', 'مسلسلات']\n"
     ]
    }
   ],
   "source": [
    "file_name = os.listdir(path)\n",
    "print(file_name)"
   ]
  },
  {
   "cell_type": "code",
   "execution_count": 74,
   "metadata": {},
   "outputs": [
    {
     "name": "stdout",
     "output_type": "stream",
     "text": [
      "There are Files in this path that were not moved\n",
      "There are Files in this path that were not moved\n",
      "There are Files in this path that were not moved\n",
      "There are Files in this path that were not moved\n",
      "There are Files in this path that were not moved\n",
      "There are Files in this path that were not moved\n",
      "There are Files in this path that were not moved\n",
      "There are Files in this path that were not moved\n",
      "There are Files in this path that were not moved\n",
      "There are Files in this path that were not moved\n",
      "There are Files in this path that were not moved\n",
      "There are Files in this path that were not moved\n",
      "There are Files in this path that were not moved\n",
      "There are Files in this path that were not moved\n",
      "There are Files in this path that were not moved\n",
      "There are Files in this path that were not moved\n",
      "There are Files in this path that were not moved\n",
      "There are Files in this path that were not moved\n",
      "There are Files in this path that were not moved\n",
      "There are Files in this path that were not moved\n",
      "There are Files in this path that were not moved\n",
      "There are Files in this path that were not moved\n",
      "There are Files in this path that were not moved\n",
      "There are Files in this path that were not moved\n",
      "There are Files in this path that were not moved\n",
      "There are Files in this path that were not moved\n",
      "There are Files in this path that were not moved\n",
      "There are Files in this path that were not moved\n",
      "There are Files in this path that were not moved\n",
      "There are Files in this path that were not moved\n",
      "There are Files in this path that were not moved\n",
      "There are Files in this path that were not moved\n",
      "There are Files in this path that were not moved\n",
      "There are Files in this path that were not moved\n",
      "There are Files in this path that were not moved\n",
      "There are Files in this path that were not moved\n",
      "There are Files in this path that were not moved\n",
      "There are Files in this path that were not moved\n",
      "There are Files in this path that were not moved\n",
      "There are Files in this path that were not moved\n",
      "There are Files in this path that were not moved\n",
      "There are Files in this path that were not moved\n",
      "There are Files in this path that were not moved\n",
      "There are Files in this path that were not moved\n",
      "There are Files in this path that were not moved\n",
      "There are Files in this path that were not moved\n",
      "There are Files in this path that were not moved\n",
      "There are Files in this path that were not moved\n",
      "There are Files in this path that were not moved\n"
     ]
    }
   ],
   "source": [
    "folder_names = ['CSV_files', \"photo\", 'مسلسلات']\n",
    "\n",
    "for loop in range(0,3):\n",
    "    if not os.path.exists(path + folder_names[loop]):\n",
    "        print\n",
    "        os.makedirs(path + folder_names[loop])\n",
    "for file in file_name:\n",
    "    if \".csv\"  in file and not os.path.exists(path + 'CSV_files/' + file):\n",
    "        shutil.move(path + file, path + 'CSV_files/' + file)\n",
    "    elif \".jpg\"  in file and not os.path.exists(path + 'photo/' + file):\n",
    "        shutil.move(path + file, path + 'photo/' + file)\n",
    "    elif \".mp4\"  in file and not os.path.exists(path + 'مسلسلات/' + file):\n",
    "        shutil.move(path + file,path + 'مسلسلات/' + file)\n",
    "    else:\n",
    "        pass"
   ]
  },
  {
   "cell_type": "code",
   "execution_count": null,
   "metadata": {},
   "outputs": [],
   "source": []
  },
  {
   "cell_type": "code",
   "execution_count": null,
   "metadata": {},
   "outputs": [],
   "source": []
  },
  {
   "cell_type": "code",
   "execution_count": null,
   "metadata": {},
   "outputs": [],
   "source": []
  },
  {
   "cell_type": "code",
   "execution_count": null,
   "metadata": {},
   "outputs": [],
   "source": []
  },
  {
   "cell_type": "code",
   "execution_count": null,
   "metadata": {},
   "outputs": [],
   "source": []
  }
 ],
 "metadata": {
  "kernelspec": {
   "display_name": "Python 3",
   "language": "python",
   "name": "python3"
  },
  "language_info": {
   "codemirror_mode": {
    "name": "ipython",
    "version": 3
   },
   "file_extension": ".py",
   "mimetype": "text/x-python",
   "name": "python",
   "nbconvert_exporter": "python",
   "pygments_lexer": "ipython3",
   "version": "3.10.5"
  }
 },
 "nbformat": 4,
 "nbformat_minor": 2
}
